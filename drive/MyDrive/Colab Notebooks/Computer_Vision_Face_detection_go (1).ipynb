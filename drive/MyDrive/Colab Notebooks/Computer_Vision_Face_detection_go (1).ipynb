{
  "cells": [
    {
      "cell_type": "markdown",
      "metadata": {
        "id": "-DeXKmcjLl89"
      },
      "source": [
        "# Computer Vision Masterclass - Face detection"
      ]
    },
    {
      "cell_type": "markdown",
      "metadata": {
        "id": "NgQKD4_BSOPP"
      },
      "source": [
        "## OpenCV"
      ]
    },
    {
      "cell_type": "markdown",
      "metadata": {
        "id": "w8zOtNhKLp-Z"
      },
      "source": [
        "### Loading the image"
      ]
    },
    {
      "cell_type": "code",
      "execution_count": null,
      "metadata": {
        "id": "oge5c1WGoOk_"
      },
      "outputs": [],
      "source": [
        "import cv2"
      ]
    },
    {
      "cell_type": "markdown",
      "metadata": {
        "id": "E0hxnUZEuxC1"
      },
      "source": [
        "librarary function of the opencv lib"
      ]
    },
    {
      "cell_type": "markdown",
      "metadata": {
        "id": "VS02KxesoW-J"
      },
      "source": [
        "# To import Drive into Colab"
      ]
    },
    {
      "cell_type": "code",
      "execution_count": null,
      "metadata": {
        "id": "3s-tDZS6oY3x"
      },
      "outputs": [],
      "source": [
        "from google.colab import drive\n",
        "drive.mount('/content/drive')"
      ]
    },
    {
      "cell_type": "code",
      "execution_count": null,
      "metadata": {
        "id": "RzIQxeXFpWqM"
      },
      "outputs": [],
      "source": [
        "image = cv2.imread('/content/drive/MyDrive/Computer Vision Masterclass-20231222T075803Z-001/Computer Vision Masterclass/Images/people1.jpg')"
      ]
    },
    {
      "cell_type": "markdown",
      "metadata": {
        "id": "Pozljt3FoJxY"
      },
      "source": [
        "# To see Image Properties"
      ]
    },
    {
      "cell_type": "code",
      "execution_count": null,
      "metadata": {
        "id": "0rGfTTF5pkbv"
      },
      "outputs": [],
      "source": [
        "image.shape"
      ]
    },
    {
      "cell_type": "markdown",
      "metadata": {
        "id": "RYmSt1TEwMos"
      },
      "source": [
        "1280 -wide , 1920-high, 3 planes"
      ]
    },
    {
      "cell_type": "code",
      "execution_count": null,
      "metadata": {
        "id": "V75wQ_nfp3fj"
      },
      "outputs": [],
      "source": [
        "#cv2.imshow(image)\n",
        "from google.colab.patches import cv2_imshow\n",
        "cv2_imshow(image)"
      ]
    },
    {
      "cell_type": "code",
      "execution_count": null,
      "metadata": {
        "id": "FevKD0VuqZtg"
      },
      "outputs": [],
      "source": [
        "image = cv2.resize(image, (800, 600))\n",
        "image.shape"
      ]
    },
    {
      "cell_type": "code",
      "execution_count": null,
      "metadata": {
        "id": "WvSpfi_kqpZJ"
      },
      "outputs": [],
      "source": [
        "cv2_imshow(image)"
      ]
    },
    {
      "cell_type": "code",
      "execution_count": null,
      "metadata": {
        "id": "Wjwnhw-Bq_zy"
      },
      "outputs": [],
      "source": [
        "600 * 800 * 3, 600 * 800, 1440000 - 480000"
      ]
    },
    {
      "cell_type": "code",
      "execution_count": null,
      "metadata": {
        "id": "NoFvhCs6rfFE"
      },
      "outputs": [],
      "source": [
        "image_gray = cv2.cvtColor(image, cv2.COLOR_BGR2GRAY)\n",
        "cv2_imshow(image_gray)"
      ]
    },
    {
      "cell_type": "code",
      "execution_count": null,
      "metadata": {
        "id": "N_BalGYlr-dT"
      },
      "outputs": [],
      "source": [
        "image.shape"
      ]
    },
    {
      "cell_type": "code",
      "execution_count": null,
      "metadata": {
        "id": "UXzZZA8_sBOt"
      },
      "outputs": [],
      "source": [
        "image_gray.shape"
      ]
    },
    {
      "cell_type": "markdown",
      "metadata": {
        "id": "2k3yuCEM06FJ"
      },
      "source": [
        "### Detecting faces"
      ]
    },
    {
      "cell_type": "code",
      "execution_count": null,
      "metadata": {
        "id": "482m3RTusekf"
      },
      "outputs": [],
      "source": [
        "face_detector = cv2.CascadeClassifier('/content/drive/MyDrive/Computer Vision Masterclass-20231222T075803Z-001/Computer Vision Masterclass/Cascades/haarcascade_frontalface_default.xml')"
      ]
    },
    {
      "cell_type": "code",
      "execution_count": null,
      "metadata": {
        "id": "M2JMOEfut_Ic"
      },
      "outputs": [],
      "source": [
        "detections = face_detector.detectMultiScale(image_gray)"
      ]
    },
    {
      "cell_type": "code",
      "execution_count": null,
      "metadata": {
        "id": "KBz_a0YnuJbM"
      },
      "outputs": [],
      "source": [
        "detections"
      ]
    },
    {
      "cell_type": "markdown",
      "metadata": {
        "id": "ObKa5QIht_oh"
      },
      "source": [
        "Each and every row represents the detection of individual face in the picture"
      ]
    },
    {
      "cell_type": "code",
      "execution_count": null,
      "metadata": {
        "id": "17f_kAVTuUBZ"
      },
      "outputs": [],
      "source": [
        "len(detections)"
      ]
    },
    {
      "cell_type": "code",
      "execution_count": null,
      "metadata": {
        "id": "m4nkBCeCvJAy"
      },
      "outputs": [],
      "source": [
        "for (x, y, w, h) in detections:\n",
        "  #print(x, y, w, h)\n",
        "  cv2.rectangle(image, (x, y), (x + w, y + h), (0,255,0), 2)\n",
        "cv2_imshow(image)"
      ]
    },
    {
      "cell_type": "markdown",
      "metadata": {
        "id": "37itAmjd1AGm"
      },
      "source": [
        "### Haarcascade parameters"
      ]
    },
    {
      "cell_type": "code",
      "execution_count": null,
      "metadata": {
        "id": "DxiATRqPx8-e"
      },
      "outputs": [],
      "source": [
        "image = cv2.imread('/content/drive/MyDrive/Computer Vision Masterclass-20231222T075803Z-001/Computer Vision Masterclass/Images/people1.jpg')\n",
        "image = cv2.resize(image, (800,600))\n",
        "image_gray = cv2.cvtColor(image, cv2.COLOR_BGR2GRAY)\n",
        "detections = face_detector.detectMultiScale(image_gray, scaleFactor=1.01)\n",
        "for (x, y, w, h) in detections:\n",
        "  cv2.rectangle(image, (x, y), (x + w, y + h), (0,255,0), 3)\n",
        "cv2_imshow(image)"
      ]
    },
    {
      "cell_type": "markdown",
      "source": [
        "scale factor - to scale the face of the image,\n",
        "*small scale factor value when the image of the face are small\n",
        "*default value 1.1"
      ],
      "metadata": {
        "id": "QnxiqC4g6tfR"
      }
    },
    {
      "cell_type": "code",
      "execution_count": null,
      "metadata": {
        "id": "cE0w8rTz3IaJ"
      },
      "outputs": [],
      "source": [
        "image = cv2.imread('/content/drive/MyDrive/Computer Vision Masterclass-20231222T075803Z-001/Computer Vision Masterclass/Images/people2.jpg')\n",
        "image_gray = cv2.cvtColor(image, cv2.COLOR_BGR2GRAY)\n",
        "detections = face_detector.detectMultiScale(image_gray, scaleFactor=1.3, minNeighbors=7,\n",
        "                                            minSize=(30,30), maxSize=(100,100))\n",
        "for (x, y, w, h) in detections:\n",
        "  print(w, h)\n",
        "  cv2.rectangle(image, (x, y), (x + w, y + h), (0,255,0), 2)\n",
        "cv2_imshow(image)"
      ]
    },
    {
      "cell_type": "markdown",
      "source": [
        "min Neighbours represents number of rectangles needed to consider this as a final rectangle - higher the value is the higher the quality"
      ],
      "metadata": {
        "id": "JrdT8Jr0CIDq"
      }
    },
    {
      "cell_type": "markdown",
      "metadata": {
        "id": "E_7ODqg0Hh9j"
      },
      "source": [
        "### Eye detection"
      ]
    },
    {
      "cell_type": "code",
      "execution_count": null,
      "metadata": {
        "id": "adlQd5Di9dJB"
      },
      "outputs": [],
      "source": [
        "eye_detector = cv2.CascadeClassifier('/content/drive/MyDrive/Cascades/haarcascade_eye.xml')"
      ]
    },
    {
      "cell_type": "code",
      "execution_count": null,
      "metadata": {
        "id": "nERADYwI8PPy"
      },
      "outputs": [],
      "source": [
        "image = cv2.imread('/content/drive/MyDrive/images/people1.jpg')\n",
        "#image = cv2.resize(image, (800, 600))\n",
        "print(image.shape)\n",
        "image_gray = cv2.cvtColor(image, cv2.COLOR_BGR2GRAY)\n",
        "\n",
        "face_detections = face_detector.detectMultiScale(image_gray, scaleFactor = 1.4, minSize = (30,30))\n",
        "for (x, y, w, h) in face_detections:\n",
        "  cv2.rectangle(image, (x, y), (x + w, y + h), (0,255,0), 2)\n",
        "\n",
        "eye_detections = eye_detector.detectMultiScale(image_gray, scaleFactor = 1.4, minNeighbors=7, maxSize=(70,70))\n",
        "for (x, y, w, h) in eye_detections:\n",
        "  print(w, h)\n",
        "  cv2.rectangle(image, (x, y), (x + w, y + h), (0,0,255), 2)\n",
        "\n",
        "cv2_imshow(image)"
      ]
    },
    {
      "cell_type": "markdown",
      "metadata": {
        "id": "kdod6bIbOBoX"
      },
      "source": [
        "### Other objects"
      ]
    },
    {
      "cell_type": "markdown",
      "metadata": {
        "id": "6oygEIxYOlri"
      },
      "source": [
        "#### Cars"
      ]
    },
    {
      "cell_type": "code",
      "execution_count": null,
      "metadata": {
        "id": "hI0et3YaOF7D"
      },
      "outputs": [],
      "source": [
        "car_detector = cv2.CascadeClassifier('/content/drive/MyDrive/Cascades/cars.xml')\n",
        "image = cv2.imread('/content/drive/MyDrive/images/car.jpg')\n",
        "image_gray = cv2.cvtColor(image, cv2.COLOR_BGR2GRAY)\n",
        "detections = car_detector.detectMultiScale(image_gray, scaleFactor = 1.5, minNeighbors=1,minSize=(5,5),maxSize=(45,45))\n",
        "for (x, y, w, h) in detections:\n",
        "  print(w,h)\n",
        "  cv2.rectangle(image, (x, y), (x + w, y + h), (0,255,0), 2)\n",
        "cv2_imshow(image)"
      ]
    },
    {
      "cell_type": "markdown",
      "metadata": {
        "id": "NPL4dNX5PV1-"
      },
      "source": [
        "#### Clocks"
      ]
    },
    {
      "cell_type": "code",
      "execution_count": null,
      "metadata": {
        "id": "2nb7lmQMPXD6"
      },
      "outputs": [],
      "source": [
        "clock_detector = cv2.CascadeClassifier('/content/drive/MyDrive/Cascades/clocks.xml')\n",
        "image = cv2.imread('/content/drive/MyDrive/images/clock.jpg')\n",
        "image_gray = cv2.cvtColor(image, cv2.COLOR_BGR2GRAY)\n",
        "detections = clock_detector.detectMultiScale(image_gray,scaleFactor=1.5,minNeighbors=1)\n",
        "for (x, y, w, h) in detections:\n",
        "  print(w,h)\n",
        "  cv2.rectangle(image, (x, y), (x + w, y + h), (0,255,0), 2)\n",
        "cv2_imshow(image)"
      ]
    },
    {
      "cell_type": "markdown",
      "metadata": {
        "id": "0ThQB_SOPy04"
      },
      "source": [
        "#### Full body"
      ]
    },
    {
      "cell_type": "code",
      "execution_count": null,
      "metadata": {
        "id": "aSJS8wWgP1sw"
      },
      "outputs": [],
      "source": [
        "full_detector = cv2.CascadeClassifier('/content/drive/MyDrive/Cascades/fullbody.xml')\n",
        "image = cv2.imread('/content/drive/MyDrive/images/people3.jpg')\n",
        "image_gray = cv2.cvtColor(image, cv2.COLOR_BGR2GRAY)\n",
        "detections = full_detector.detectMultiScale(image_gray, scaleFactor = 1.5, minNeighbors=5,\n",
        "                                              minSize = (50,50))\n",
        "for (x, y, w, h) in detections:\n",
        "  cv2.rectangle(image, (x, y), (x + w, y + h), (0,255,0), 2)\n",
        "cv2_imshow(image)"
      ]
    },
    {
      "cell_type": "markdown",
      "metadata": {
        "id": "Vw1aTLB6SdP2"
      },
      "source": [
        "## Dlib"
      ]
    },
    {
      "cell_type": "code",
      "execution_count": null,
      "metadata": {
        "id": "CPX-q-Gl8OxW"
      },
      "outputs": [],
      "source": [
        "import dlib"
      ]
    },
    {
      "cell_type": "markdown",
      "metadata": {
        "id": "Z6Dh_9PRmRrV"
      },
      "source": [
        "### Detecting faces with HOG"
      ]
    },
    {
      "cell_type": "code",
      "execution_count": null,
      "metadata": {
        "id": "Re7qxFbs8XjH"
      },
      "outputs": [],
      "source": [
        "image = cv2.imread('/content/drive/MyDrive/images/people2.jpg')\n",
        "cv2_imshow(image)"
      ]
    },
    {
      "cell_type": "code",
      "execution_count": null,
      "metadata": {
        "id": "EYa1sRn38ylv"
      },
      "outputs": [],
      "source": [
        "face_detector_hog = dlib.get_frontal_face_detector()"
      ]
    },
    {
      "cell_type": "code",
      "execution_count": null,
      "metadata": {
        "id": "wfcS_n2p87WI"
      },
      "outputs": [],
      "source": [
        "detections = face_detector_hog(image, 1)"
      ]
    },
    {
      "cell_type": "code",
      "execution_count": null,
      "metadata": {
        "id": "iX5i6bnL9TBp"
      },
      "outputs": [],
      "source": [
        "detections, len(detections)"
      ]
    },
    {
      "cell_type": "code",
      "execution_count": null,
      "metadata": {
        "id": "9jlJ_ZE_-Dsa"
      },
      "outputs": [],
      "source": [
        "for face in detections:\n",
        "  #print(face)\n",
        "  #print(face.left())\n",
        "  #print(face.top())\n",
        "  #print(face.right())\n",
        "  #print(face.bottom())\n",
        "  l, t, r, b = face.left(), face.top(), face.right(), face.bottom()\n",
        "  cv2.rectangle(image, (l, t), (r, b), (0, 255, 255), 2)\n",
        "cv2_imshow(image)"
      ]
    },
    {
      "cell_type": "markdown",
      "metadata": {
        "id": "xEep_Wldqzwg"
      },
      "source": [
        "### Detecting faces with CNN (Convolutional Neural Networks)"
      ]
    },
    {
      "cell_type": "code",
      "execution_count": null,
      "metadata": {
        "id": "HrP7vHgwBnlv"
      },
      "outputs": [],
      "source": [
        "image = cv2.imread('/content/drive/MyDrive/Cursos - recursos/Computer Vision Masterclass/Images/people2.jpg')\n",
        "cnn_detector = dlib.cnn_face_detection_model_v1('/content/drive/MyDrive/Cursos - recursos/Computer Vision Masterclass/Weights/mmod_human_face_detector.dat')"
      ]
    },
    {
      "cell_type": "code",
      "execution_count": null,
      "metadata": {
        "id": "uk6xM1RGCdR3"
      },
      "outputs": [],
      "source": [
        "detections = cnn_detector(image, 1)\n",
        "for face in detections:\n",
        "  l, t, r, b, c = face.rect.left(), face.rect.top(), face.rect.right(), face.rect.bottom(), face.confidence\n",
        "  print(c)\n",
        "  cv2.rectangle(image, (l, t), (r, b), (255, 255, 0), 2)\n",
        "cv2_imshow(image)"
      ]
    },
    {
      "cell_type": "markdown",
      "metadata": {
        "id": "6cwBNX6NuAlS"
      },
      "source": [
        "### Haarcascade x HOG x CNN"
      ]
    },
    {
      "cell_type": "markdown",
      "metadata": {
        "id": "KSAy9oYQuTqR"
      },
      "source": [
        "#### Haarcascade"
      ]
    },
    {
      "cell_type": "code",
      "execution_count": null,
      "metadata": {
        "id": "sILnjRbVEUj6"
      },
      "outputs": [],
      "source": [
        "image.shape"
      ]
    },
    {
      "cell_type": "code",
      "execution_count": null,
      "metadata": {
        "id": "O2ZWDrQAuRZe"
      },
      "outputs": [],
      "source": [
        "image = cv2.imread('/content/drive/MyDrive/Cursos - recursos/Computer Vision Masterclass/Images/people3.jpg')\n",
        "image_gray = cv2.cvtColor(image, cv2.COLOR_BGR2GRAY)\n",
        "haarcascade_detector = cv2.CascadeClassifier('/content/drive/MyDrive/Cursos - recursos/Computer Vision Masterclass/Cascades/haarcascade_frontalface_default.xml')\n",
        "detections = haarcascade_detector.detectMultiScale(image_gray, scaleFactor = 1.001, minNeighbors=5, minSize = (5,5))\n",
        "for (x, y, w, h) in detections:\n",
        "  cv2.rectangle(image, (x, y), (x + w, y + h), (0,255,0), 2)\n",
        "cv2_imshow(image)"
      ]
    },
    {
      "cell_type": "markdown",
      "metadata": {
        "id": "C6hDOscbvE_G"
      },
      "source": [
        "#### HOG"
      ]
    },
    {
      "cell_type": "code",
      "execution_count": null,
      "metadata": {
        "id": "m3km17RuvGa0"
      },
      "outputs": [],
      "source": [
        "image = cv2.imread('/content/drive/MyDrive/Cursos - recursos/Computer Vision Masterclass/Images/people3.jpg')\n",
        "face_detector_hog = dlib.get_frontal_face_detector()\n",
        "detections = face_detector_hog(image, 4)\n",
        "for face in detections:\n",
        "    l, t, r, b = (face.left(), face.top(), face.right(), face.bottom())\n",
        "    cv2.rectangle(image, (l, t), (r, b), (0, 255, 255), 2)\n",
        "cv2_imshow(image)"
      ]
    },
    {
      "cell_type": "markdown",
      "metadata": {
        "id": "9Oa6jANWv4Ik"
      },
      "source": [
        "#### CNN"
      ]
    },
    {
      "cell_type": "code",
      "execution_count": null,
      "metadata": {
        "id": "TR4Uebotv5DV"
      },
      "outputs": [],
      "source": [
        "image = cv2.imread('/content/drive/MyDrive/Cursos - recursos/Computer Vision Masterclass/Images/people3.jpg')\n",
        "cnn_detector = dlib.cnn_face_detection_model_v1('/content/drive/MyDrive/Cursos - recursos/Computer Vision Masterclass/Weights/mmod_human_face_detector.dat')\n",
        "detections = cnn_detector(image, 4)\n",
        "for face in detections:\n",
        "  l, t, r, b, c = face.rect.left(), face.rect.top(), face.rect.right(), face.rect.bottom(), face.confidence\n",
        "  print(c)\n",
        "  cv2.rectangle(image, (l, t), (r, b), (255, 255, 0), 2)\n",
        "cv2_imshow(image)"
      ]
    }
  ],
  "metadata": {
    "accelerator": "GPU",
    "colab": {
      "provenance": []
    },
    "kernelspec": {
      "display_name": "Python 3",
      "name": "python3"
    }
  },
  "nbformat": 4,
  "nbformat_minor": 0
}